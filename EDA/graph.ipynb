{
 "cells": [
  {
   "cell_type": "code",
   "execution_count": null,
   "metadata": {},
   "outputs": [],
   "source": [
    "import pandas as pd\n",
    "import matplotlib.pyplot as plt\n",
    "import seaborn as sns\n",
    "\n",
    "df = pd.read_csv(r'C:\\Users\\17nau\\Desktop\\COVID19-India\\DistrictWise_Data.csv')\n",
    "\n",
    "df['tr'] = df['Tested'] / df['Population']\n",
    "\n",
    "def categorize_district(tr):\n",
    "    if 0.05 <= tr <= 0.1:\n",
    "        return '0.05 - 0.1'\n",
    "    elif 0.1 < tr <= 0.3:\n",
    "        return '0.1 - 0.3'\n",
    "    elif 0.3 < tr <= 0.5:\n",
    "        return '0.3 - 0.5'\n",
    "    elif 0.5 < tr <= 0.75:\n",
    "        return '0.5 - 0.75'\n",
    "    elif 0.75 < tr <= 1.0:\n",
    "        return '0.75 - 1.0'\n",
    "    else:\n",
    "        return None  \n",
    "    \n",
    "df['tr_category'] = df['tr'].apply(categorize_district)\n",
    "\n",
    "deaths_by_category = df.groupby('tr_category')['Deceased'].sum().reset_index()\n",
    "\n",
    "plt.figure(figsize=(12, 8))\n",
    "\n",
    "colors = sns.color_palette('viridis', n_colors=len(deaths_by_category))\n",
    "sns.barplot(data=deaths_by_category, x='tr_category', y='Deceased', palette=colors)\n",
    "\n",
    "plt.title('Total Deaths Across Testing Ratio Categories', fontsize=18, pad=20)\n",
    "plt.xlabel('Testing Ratio Category', fontsize=14)\n",
    "plt.ylabel('Total Deaths', fontsize=14)\n",
    "plt.xticks(fontsize=12, rotation=45, ha='right')\n",
    "plt.yticks(fontsize=12)\n",
    "plt.grid(axis='y', linestyle='--', alpha=0.7)\n",
    "\n",
    "for index, row in deaths_by_category.iterrows():\n",
    "    plt.text(index, row['Deceased'] + 1000, f'{row[\"Deceased\"]:,.0f}', ha='center', va='bottom', fontsize=12)\n",
    "\n",
    "plt.gca().spines['top'].set_visible(False)\n",
    "plt.gca().spines['right'].set_visible(False)\n",
    "plt.tight_layout()\n",
    "\n",
    "sm = plt.cm.ScalarMappable(cmap='viridis', norm=plt.Normalize(vmin=0, vmax=len(deaths_by_category)))\n",
    "sm.set_array([])\n",
    "cbar = plt.colorbar(sm, orientation='vertical')\n",
    "cbar.set_label('Categories', rotation=270, labelpad=15)\n",
    "\n",
    "plt.show()\n"
   ]
  }
 ],
 "metadata": {
  "kernelspec": {
   "display_name": "Python 3",
   "language": "python",
   "name": "python3"
  },
  "language_info": {
   "codemirror_mode": {
    "name": "ipython",
    "version": 3
   },
   "file_extension": ".py",
   "mimetype": "text/x-python",
   "name": "python",
   "nbconvert_exporter": "python",
   "pygments_lexer": "ipython3",
   "version": "3.10.2"
  }
 },
 "nbformat": 4,
 "nbformat_minor": 2
}
